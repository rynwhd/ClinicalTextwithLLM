{
  "nbformat": 4,
  "nbformat_minor": 0,
  "metadata": {
    "colab": {
      "provenance": []
    },
    "kernelspec": {
      "name": "python3",
      "display_name": "Python 3"
    },
    "language_info": {
      "name": "python"
    },
    "widgets": {
      "application/vnd.jupyter.widget-state+json": {
        "1255e3bb213c4d8287f20407803e478d": {
          "model_module": "@jupyter-widgets/controls",
          "model_name": "HBoxModel",
          "model_module_version": "1.5.0",
          "state": {
            "_dom_classes": [],
            "_model_module": "@jupyter-widgets/controls",
            "_model_module_version": "1.5.0",
            "_model_name": "HBoxModel",
            "_view_count": null,
            "_view_module": "@jupyter-widgets/controls",
            "_view_module_version": "1.5.0",
            "_view_name": "HBoxView",
            "box_style": "",
            "children": [
              "IPY_MODEL_c907f8a16bae467fba9bae7f628429df",
              "IPY_MODEL_6b9d44f9578443829303df5a438951ae",
              "IPY_MODEL_d1cd1ee79352446cb34a0293908de03d"
            ],
            "layout": "IPY_MODEL_a7265b613c684744b07861d01a51b6bb"
          }
        },
        "c907f8a16bae467fba9bae7f628429df": {
          "model_module": "@jupyter-widgets/controls",
          "model_name": "HTMLModel",
          "model_module_version": "1.5.0",
          "state": {
            "_dom_classes": [],
            "_model_module": "@jupyter-widgets/controls",
            "_model_module_version": "1.5.0",
            "_model_name": "HTMLModel",
            "_view_count": null,
            "_view_module": "@jupyter-widgets/controls",
            "_view_module_version": "1.5.0",
            "_view_name": "HTMLView",
            "description": "",
            "description_tooltip": null,
            "layout": "IPY_MODEL_f1b4ac7435584041a2ba7cfff86b037b",
            "placeholder": "​",
            "style": "IPY_MODEL_2aee19e528914bdf95e3f2f4fa456344",
            "value": "100%"
          }
        },
        "6b9d44f9578443829303df5a438951ae": {
          "model_module": "@jupyter-widgets/controls",
          "model_name": "FloatProgressModel",
          "model_module_version": "1.5.0",
          "state": {
            "_dom_classes": [],
            "_model_module": "@jupyter-widgets/controls",
            "_model_module_version": "1.5.0",
            "_model_name": "FloatProgressModel",
            "_view_count": null,
            "_view_module": "@jupyter-widgets/controls",
            "_view_module_version": "1.5.0",
            "_view_name": "ProgressView",
            "bar_style": "success",
            "description": "",
            "description_tooltip": null,
            "layout": "IPY_MODEL_36eeb43f339d446390383b511cf4039e",
            "max": 5,
            "min": 0,
            "orientation": "horizontal",
            "style": "IPY_MODEL_fc4746095a4c4acb96a82e817b82edd9",
            "value": 5
          }
        },
        "d1cd1ee79352446cb34a0293908de03d": {
          "model_module": "@jupyter-widgets/controls",
          "model_name": "HTMLModel",
          "model_module_version": "1.5.0",
          "state": {
            "_dom_classes": [],
            "_model_module": "@jupyter-widgets/controls",
            "_model_module_version": "1.5.0",
            "_model_name": "HTMLModel",
            "_view_count": null,
            "_view_module": "@jupyter-widgets/controls",
            "_view_module_version": "1.5.0",
            "_view_name": "HTMLView",
            "description": "",
            "description_tooltip": null,
            "layout": "IPY_MODEL_c82c4b50cc2f4e309ae8d912d455c1cb",
            "placeholder": "​",
            "style": "IPY_MODEL_2c0721d07f6f4c658a49099f7f46b7a9",
            "value": " 5/5 [00:00&lt;00:00, 12.16it/s]"
          }
        },
        "a7265b613c684744b07861d01a51b6bb": {
          "model_module": "@jupyter-widgets/base",
          "model_name": "LayoutModel",
          "model_module_version": "1.2.0",
          "state": {
            "_model_module": "@jupyter-widgets/base",
            "_model_module_version": "1.2.0",
            "_model_name": "LayoutModel",
            "_view_count": null,
            "_view_module": "@jupyter-widgets/base",
            "_view_module_version": "1.2.0",
            "_view_name": "LayoutView",
            "align_content": null,
            "align_items": null,
            "align_self": null,
            "border": null,
            "bottom": null,
            "display": null,
            "flex": null,
            "flex_flow": null,
            "grid_area": null,
            "grid_auto_columns": null,
            "grid_auto_flow": null,
            "grid_auto_rows": null,
            "grid_column": null,
            "grid_gap": null,
            "grid_row": null,
            "grid_template_areas": null,
            "grid_template_columns": null,
            "grid_template_rows": null,
            "height": null,
            "justify_content": null,
            "justify_items": null,
            "left": null,
            "margin": null,
            "max_height": null,
            "max_width": null,
            "min_height": null,
            "min_width": null,
            "object_fit": null,
            "object_position": null,
            "order": null,
            "overflow": null,
            "overflow_x": null,
            "overflow_y": null,
            "padding": null,
            "right": null,
            "top": null,
            "visibility": null,
            "width": null
          }
        },
        "f1b4ac7435584041a2ba7cfff86b037b": {
          "model_module": "@jupyter-widgets/base",
          "model_name": "LayoutModel",
          "model_module_version": "1.2.0",
          "state": {
            "_model_module": "@jupyter-widgets/base",
            "_model_module_version": "1.2.0",
            "_model_name": "LayoutModel",
            "_view_count": null,
            "_view_module": "@jupyter-widgets/base",
            "_view_module_version": "1.2.0",
            "_view_name": "LayoutView",
            "align_content": null,
            "align_items": null,
            "align_self": null,
            "border": null,
            "bottom": null,
            "display": null,
            "flex": null,
            "flex_flow": null,
            "grid_area": null,
            "grid_auto_columns": null,
            "grid_auto_flow": null,
            "grid_auto_rows": null,
            "grid_column": null,
            "grid_gap": null,
            "grid_row": null,
            "grid_template_areas": null,
            "grid_template_columns": null,
            "grid_template_rows": null,
            "height": null,
            "justify_content": null,
            "justify_items": null,
            "left": null,
            "margin": null,
            "max_height": null,
            "max_width": null,
            "min_height": null,
            "min_width": null,
            "object_fit": null,
            "object_position": null,
            "order": null,
            "overflow": null,
            "overflow_x": null,
            "overflow_y": null,
            "padding": null,
            "right": null,
            "top": null,
            "visibility": null,
            "width": null
          }
        },
        "2aee19e528914bdf95e3f2f4fa456344": {
          "model_module": "@jupyter-widgets/controls",
          "model_name": "DescriptionStyleModel",
          "model_module_version": "1.5.0",
          "state": {
            "_model_module": "@jupyter-widgets/controls",
            "_model_module_version": "1.5.0",
            "_model_name": "DescriptionStyleModel",
            "_view_count": null,
            "_view_module": "@jupyter-widgets/base",
            "_view_module_version": "1.2.0",
            "_view_name": "StyleView",
            "description_width": ""
          }
        },
        "36eeb43f339d446390383b511cf4039e": {
          "model_module": "@jupyter-widgets/base",
          "model_name": "LayoutModel",
          "model_module_version": "1.2.0",
          "state": {
            "_model_module": "@jupyter-widgets/base",
            "_model_module_version": "1.2.0",
            "_model_name": "LayoutModel",
            "_view_count": null,
            "_view_module": "@jupyter-widgets/base",
            "_view_module_version": "1.2.0",
            "_view_name": "LayoutView",
            "align_content": null,
            "align_items": null,
            "align_self": null,
            "border": null,
            "bottom": null,
            "display": null,
            "flex": null,
            "flex_flow": null,
            "grid_area": null,
            "grid_auto_columns": null,
            "grid_auto_flow": null,
            "grid_auto_rows": null,
            "grid_column": null,
            "grid_gap": null,
            "grid_row": null,
            "grid_template_areas": null,
            "grid_template_columns": null,
            "grid_template_rows": null,
            "height": null,
            "justify_content": null,
            "justify_items": null,
            "left": null,
            "margin": null,
            "max_height": null,
            "max_width": null,
            "min_height": null,
            "min_width": null,
            "object_fit": null,
            "object_position": null,
            "order": null,
            "overflow": null,
            "overflow_x": null,
            "overflow_y": null,
            "padding": null,
            "right": null,
            "top": null,
            "visibility": null,
            "width": null
          }
        },
        "fc4746095a4c4acb96a82e817b82edd9": {
          "model_module": "@jupyter-widgets/controls",
          "model_name": "ProgressStyleModel",
          "model_module_version": "1.5.0",
          "state": {
            "_model_module": "@jupyter-widgets/controls",
            "_model_module_version": "1.5.0",
            "_model_name": "ProgressStyleModel",
            "_view_count": null,
            "_view_module": "@jupyter-widgets/base",
            "_view_module_version": "1.2.0",
            "_view_name": "StyleView",
            "bar_color": null,
            "description_width": ""
          }
        },
        "c82c4b50cc2f4e309ae8d912d455c1cb": {
          "model_module": "@jupyter-widgets/base",
          "model_name": "LayoutModel",
          "model_module_version": "1.2.0",
          "state": {
            "_model_module": "@jupyter-widgets/base",
            "_model_module_version": "1.2.0",
            "_model_name": "LayoutModel",
            "_view_count": null,
            "_view_module": "@jupyter-widgets/base",
            "_view_module_version": "1.2.0",
            "_view_name": "LayoutView",
            "align_content": null,
            "align_items": null,
            "align_self": null,
            "border": null,
            "bottom": null,
            "display": null,
            "flex": null,
            "flex_flow": null,
            "grid_area": null,
            "grid_auto_columns": null,
            "grid_auto_flow": null,
            "grid_auto_rows": null,
            "grid_column": null,
            "grid_gap": null,
            "grid_row": null,
            "grid_template_areas": null,
            "grid_template_columns": null,
            "grid_template_rows": null,
            "height": null,
            "justify_content": null,
            "justify_items": null,
            "left": null,
            "margin": null,
            "max_height": null,
            "max_width": null,
            "min_height": null,
            "min_width": null,
            "object_fit": null,
            "object_position": null,
            "order": null,
            "overflow": null,
            "overflow_x": null,
            "overflow_y": null,
            "padding": null,
            "right": null,
            "top": null,
            "visibility": null,
            "width": null
          }
        },
        "2c0721d07f6f4c658a49099f7f46b7a9": {
          "model_module": "@jupyter-widgets/controls",
          "model_name": "DescriptionStyleModel",
          "model_module_version": "1.5.0",
          "state": {
            "_model_module": "@jupyter-widgets/controls",
            "_model_module_version": "1.5.0",
            "_model_name": "DescriptionStyleModel",
            "_view_count": null,
            "_view_module": "@jupyter-widgets/base",
            "_view_module_version": "1.2.0",
            "_view_name": "StyleView",
            "description_width": ""
          }
        }
      }
    }
  },
  "cells": [
    {
      "cell_type": "code",
      "execution_count": 2,
      "metadata": {
        "id": "IvByPrH2yd0G"
      },
      "outputs": [],
      "source": [
        "import pandas as pd\n",
        "import tensorflow as tf\n",
        "import numpy as np\n"
      ]
    },
    {
      "cell_type": "code",
      "source": [
        "import pandas as pd\n",
        "import numpy as np\n",
        "from omnixai.data.tabular import Tabular\n",
        "from omnixai.explainers.data import DataAnalyzer\n",
        "from omnixai.preprocessing.base import Identity\n",
        "from omnixai.preprocessing.encode import LabelEncoder\n",
        "from omnixai.preprocessing.tabular import TabularTransform\n",
        "from omnixai.explainers.tabular import TabularExplainer\n",
        "from sklearn.model_selection import train_test_split\n",
        "from sklearn.ensemble import GradientBoostingRegressor\n",
        "from sklearn.metrics import mean_squared_error,r2_score"
      ],
      "metadata": {
        "id": "rER1eclE_YGr"
      },
      "execution_count": 3,
      "outputs": []
    },
    {
      "cell_type": "code",
      "source": [
        "data=pd.read_csv('smsspamcollection.csv',sep='\\t')\n",
        "data=data.dropna()\n",
        "data['label'] = data['label'].astype(object)"
      ],
      "metadata": {
        "id": "9qGcrb5DYz2r"
      },
      "execution_count": 4,
      "outputs": []
    },
    {
      "cell_type": "code",
      "source": [],
      "metadata": {
        "id": "H-i9lULsKssQ"
      },
      "execution_count": 4,
      "outputs": []
    },
    {
      "cell_type": "code",
      "source": [
        "labs=[]\n",
        "for i,j in zip(data.label,range(len(data.label))):\n",
        "  if(i=='ham'):\n",
        "\n",
        "    labs.append(0)\n",
        "  else:\n",
        "    labs.append(1)\n"
      ],
      "metadata": {
        "id": "NsWLVrKYBh9C"
      },
      "execution_count": 5,
      "outputs": []
    },
    {
      "cell_type": "code",
      "source": [],
      "metadata": {
        "id": "1g1oetDEMAce"
      },
      "execution_count": 5,
      "outputs": []
    },
    {
      "cell_type": "code",
      "source": [
        "data['label']=labs"
      ],
      "metadata": {
        "id": "sjcLw-KYKN9Z"
      },
      "execution_count": 6,
      "outputs": []
    },
    {
      "cell_type": "code",
      "source": [
        "data['label'] = data['label'].astype(int)"
      ],
      "metadata": {
        "id": "6kLfFo_rJZv8"
      },
      "execution_count": 7,
      "outputs": []
    },
    {
      "cell_type": "code",
      "source": [],
      "metadata": {
        "id": "ruaWa7KKJkXa"
      },
      "execution_count": 7,
      "outputs": []
    },
    {
      "cell_type": "code",
      "source": [
        "x=data.iloc[:,1].values\n",
        "y=data.iloc[:,0].values"
      ],
      "metadata": {
        "id": "zji4DzDQCjhy"
      },
      "execution_count": 8,
      "outputs": []
    },
    {
      "cell_type": "code",
      "source": [],
      "metadata": {
        "id": "fNaYy3bRFJAf"
      },
      "execution_count": 8,
      "outputs": []
    },
    {
      "cell_type": "code",
      "source": [
        "# data=data.iloc[:,1:]\n",
        "# target=data.iloc[:,0]\n",
        "data.columns"
      ],
      "metadata": {
        "colab": {
          "base_uri": "https://localhost:8080/"
        },
        "id": "lA-ejQxL_pFM",
        "outputId": "4a209f2c-a6ee-4163-96f6-ee2dec97d426"
      },
      "execution_count": 9,
      "outputs": [
        {
          "output_type": "execute_result",
          "data": {
            "text/plain": [
              "Index(['label', 'message', 'length', 'punct'], dtype='object')"
            ]
          },
          "metadata": {},
          "execution_count": 9
        }
      ]
    },
    {
      "cell_type": "code",
      "source": [
        "tabular_data = Tabular(\n",
        "    data,\n",
        "    feature_columns=data.columns,\n",
        "    categorical_columns=[ 'message'],\n",
        "    target_column='label'\n",
        ")"
      ],
      "metadata": {
        "id": "zL4LkRXaYz7E"
      },
      "execution_count": 10,
      "outputs": []
    },
    {
      "cell_type": "code",
      "source": [
        "explainer = DataAnalyzer(\n",
        "    explainers=[\"correlation\", \"mutual\", \"chi2\"],\n",
        "    data=tabular_data,\n",
        "    mode =\" classification\"\n",
        ")\n",
        "explanations = explainer.explain_global()\n"
      ],
      "metadata": {
        "id": "v9iQUWGjBPmQ"
      },
      "execution_count": 11,
      "outputs": []
    },
    {
      "cell_type": "code",
      "source": [
        "transformer = TabularTransform(\n",
        "    target_transform=Identity()\n",
        ").fit(tabular_data)"
      ],
      "metadata": {
        "id": "z7PevjymDWTB"
      },
      "execution_count": 12,
      "outputs": []
    },
    {
      "cell_type": "code",
      "source": [
        "from omnixai.preprocessing.tabular import TabularTransform\n",
        "transformer = TabularTransform().fit(tabular_data)\n",
        "class_names = transformer.class_names\n",
        "x = transformer.transform(tabular_data)"
      ],
      "metadata": {
        "id": "QNh245VUNKvz"
      },
      "execution_count": 13,
      "outputs": []
    },
    {
      "cell_type": "code",
      "source": [
        "train, test, train_labels, test_labels =train_test_split(x[:, :-1], x[:, -1], train_size=0.80)"
      ],
      "metadata": {
        "id": "KlWAS0PvNgXm"
      },
      "execution_count": 14,
      "outputs": []
    },
    {
      "cell_type": "code",
      "source": [
        "# from sklearn.model_selection import train_test_split\n",
        "\n",
        "# x_train,x_test,y_train,y_test=train_test_split(x,y,random_state=42,test_size=0.25)"
      ],
      "metadata": {
        "id": "Ow5p-LyJFRCd"
      },
      "execution_count": 15,
      "outputs": []
    },
    {
      "cell_type": "code",
      "source": [
        "\n",
        "# from sklearn.feature_extraction.text import CountVectorizer\n",
        "# count_vect = CountVectorizer()\n",
        "# x_train_vocab=count_vect.fit_transform(x_train)"
      ],
      "metadata": {
        "id": "zRituIfpEqDt"
      },
      "execution_count": 16,
      "outputs": []
    },
    {
      "cell_type": "code",
      "source": [
        "# from sklearn.feature_extraction.text import TfidfVectorizer\n",
        "# tfidf=TfidfVectorizer()\n",
        "\n",
        "# # from sklearn.feature_extraction.text import TfidfTransformer\n",
        "# # tfidf=TfidfTransformer()\n",
        "# x_train_tfidf=tfidf.fit_transform(train)\n",
        "from sklearn.linear_model import SGDClassifier\n",
        "\n",
        "# Create the model\n",
        "clf = SGDClassifier(loss='log', random_state=42)\n",
        "\n",
        "\n",
        "clf.fit(train,train_labels)\n",
        "# y=np.array(y,dtype=np.float32)\n",
        "# from sklearn.feature_extraction.text import TfidfVectorizer\n",
        "# from sklearn.linear_model import LogisticRegression\n",
        "# from sklearn.pipeline import Pipeline\n",
        "\n",
        "# pipeline = Pipeline([\n",
        "#     ('vect', TfidfVectorizer()),\n",
        "#     ('clf', LogisticRegression())\n",
        "# ])\n",
        "\n",
        "# from sklearn.feature_extraction.text import TfidfVectorizer\n",
        "# from sklearn.linear_model import LogisticRegression\n",
        "# from sklearn.pipeline import Pipeline\n",
        "\n",
        "# # Define the pipeline\n",
        "# pipeline = Pipeline([\n",
        "#     ('vect', TfidfVectorizer()),\n",
        "#     ('clf', LogisticRegression())\n",
        "# ])\n",
        "\n",
        "# pipeline.fit(x_train, y_train)"
      ],
      "metadata": {
        "colab": {
          "base_uri": "https://localhost:8080/"
        },
        "id": "gQWX98snDWV0",
        "outputId": "69eb9e8e-fc65-4fc2-ce89-ad52e5412e99"
      },
      "execution_count": 17,
      "outputs": [
        {
          "output_type": "execute_result",
          "data": {
            "text/plain": [
              "SGDClassifier(loss='log', random_state=42)"
            ]
          },
          "metadata": {},
          "execution_count": 17
        }
      ]
    },
    {
      "cell_type": "code",
      "source": [
        "\n",
        "train_data = transformer.invert(train)\n",
        "test_data = transformer.invert(test)"
      ],
      "metadata": {
        "id": "umdcswYvMxUb"
      },
      "execution_count": 18,
      "outputs": []
    },
    {
      "cell_type": "code",
      "source": [
        "preprocess = lambda z: transformer.transform(z)"
      ],
      "metadata": {
        "id": "qoGmgxlKOnGz"
      },
      "execution_count": 19,
      "outputs": []
    },
    {
      "cell_type": "code",
      "source": [
        "from omnixai.explainers.tabular import TabularExplainer\n",
        "from omnixai.visualization.dashboard import Dashboard\n",
        "\n",
        "explainers = TabularExplainer(\n",
        "    explainers=[\"lime\", \"shap\", \"pdp\"],\n",
        "    mode=\"regression\",\n",
        "    data=train_data,\n",
        "    model=clf,\n",
        "    preprocess=preprocess,\n",
        "    params={\n",
        "        \"lime\": {\"kernel_width\": 3},\n",
        "        \"shap\": {\"nsamples\": 100}\n",
        "    }\n",
        ")"
      ],
      "metadata": {
        "id": "Q97xChE_DWYJ"
      },
      "execution_count": 20,
      "outputs": []
    },
    {
      "cell_type": "code",
      "source": [
        "test_instances = transformer.invert(test[0:5])\n",
        "local_explanations = explainers.explain(X=test_instances)\n",
        "global_explanations = explainers.explain_global()"
      ],
      "metadata": {
        "colab": {
          "base_uri": "https://localhost:8080/",
          "height": 49,
          "referenced_widgets": [
            "1255e3bb213c4d8287f20407803e478d",
            "c907f8a16bae467fba9bae7f628429df",
            "6b9d44f9578443829303df5a438951ae",
            "d1cd1ee79352446cb34a0293908de03d",
            "a7265b613c684744b07861d01a51b6bb",
            "f1b4ac7435584041a2ba7cfff86b037b",
            "2aee19e528914bdf95e3f2f4fa456344",
            "36eeb43f339d446390383b511cf4039e",
            "fc4746095a4c4acb96a82e817b82edd9",
            "c82c4b50cc2f4e309ae8d912d455c1cb",
            "2c0721d07f6f4c658a49099f7f46b7a9"
          ]
        },
        "id": "Mj3xYCfKDWaP",
        "outputId": "a08556cc-f3fa-4c98-fecf-af34fb8d81e3"
      },
      "execution_count": null,
      "outputs": [
        {
          "data": {
            "application/vnd.jupyter.widget-view+json": {
              "model_id": "1255e3bb213c4d8287f20407803e478d",
              "version_major": 2,
              "version_minor": 0
            },
            "text/plain": [
              "  0%|          | 0/5 [00:00<?, ?it/s]"
            ]
          },
          "metadata": {},
          "output_type": "display_data"
        }
      ]
    },
    {
      "cell_type": "code",
      "source": [
        "from omnixai.explainers.prediction import PredictionAnalyzer\n",
        "\n",
        "analyzer = PredictionAnalyzer(\n",
        "    mode=\"classification\",\n",
        "    test_data=test_data,                           # The test dataset (a `Tabular` instance)\n",
        "    test_targets=test_labels,                      # The test labels (a numpy array)\n",
        "    model=clf,                                   # The ML model\n",
        "    preprocess=lambda z: transformer.transform(z)  # Converts raw features into the model inputs\n",
        ")\n",
        "prediction_explanations = analyzer.explain()"
      ],
      "metadata": {
        "id": "vYeplrDVDWcl"
      },
      "execution_count": null,
      "outputs": []
    },
    {
      "cell_type": "code",
      "source": [
        "dashboard = Dashboard(\n",
        "    instances=test_instances,                        # The instances to explain\n",
        "    local_explanations=local_explanations,           # Set the generated local explanations\n",
        "    global_explanations=global_explanations,         # Set the generated global explanations\n",
        "    class_names=class_names,                         # Set class names\n",
        ")\n",
        "dashboard.show()                                     # Launch the dashboard"
      ],
      "metadata": {
        "id": "oLCdgQm9DWf9"
      },
      "execution_count": null,
      "outputs": []
    },
    {
      "cell_type": "code",
      "source": [],
      "metadata": {
        "id": "cOaRmrxsDWlB"
      },
      "execution_count": null,
      "outputs": []
    },
    {
      "cell_type": "markdown",
      "source": [
        "# New section"
      ],
      "metadata": {
        "id": "YjqkROlRyp_x"
      }
    }
  ]
}